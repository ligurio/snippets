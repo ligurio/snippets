{
 "cells": [
  {
   "cell_type": "markdown",
   "metadata": {
    "collapsed": true
   },
   "source": [
    "# CRIU (Checkpoint and Restore In Userspace) metrics\n",
    "\n",
    "crafted by [Sergey Bronnikov](https://bronevichok.ru/), BSD license\n",
    "<img src=\"https://static.openvz.org/artwork/CRIU-560px.png\" alt=\"CRIU logo\" style=\"width: 200px;\" align=\"left\"/>"
   ]
  },
  {
   "cell_type": "markdown",
   "metadata": {},
   "source": [
    "## Code"
   ]
  },
  {
   "cell_type": "code",
   "execution_count": 9,
   "metadata": {
    "collapsed": true
   },
   "outputs": [],
   "source": [
    "import pandas as pd\n",
    "import json\n",
    "import itertools\n",
    "import collections\n",
    "import numpy\n",
    "import re\n",
    "import datetime\n",
    "import arrow\n",
    "import matplotlib.pyplot as plt\n",
    "plt.rcParams[\"figure.figsize\"] = (15,3)\n",
    "plt.show(block=True)"
   ]
  },
  {
   "cell_type": "markdown",
   "metadata": {},
   "source": [
    "Checkout [source repository](https://github.com/xemul/criu) and install Python package called [git2json](https://github.com/tarmstrong/git2json) for parsing git logs."
   ]
  },
  {
   "cell_type": "code",
   "execution_count": 10,
   "metadata": {
    "collapsed": true
   },
   "outputs": [],
   "source": [
    "#!git2json --git-dir=/home/sergeyb/source/criu/.git > criu-log.json"
   ]
  },
  {
   "cell_type": "markdown",
   "metadata": {},
   "source": [
    "We can parse the resulting JSON file and take a peek at the data structure."
   ]
  },
  {
   "cell_type": "code",
   "execution_count": 11,
   "metadata": {},
   "outputs": [
    {
     "name": "stdout",
     "output_type": "stream",
     "text": [
      "{u'committer': {u'date': 1502293902, u'timezone': u'+0300', u'name': u'Pavel Emelyanov', u'email': u'xemul@virtuozzo.com'}, u'author': {u'date': 1500566916, u'timezone': u'-0400', u'name': u'Adrian Reber', u'email': u'areber@redhat.com'}, u'tree': u'c84f48490e244a3276f4a007c157973f0b3f0b27', u'parents': [u'f2899a728cf2baf79655b5b2559f826af7c8452d'], u'commit': u'f07adae6905d10533928209637f003d025bf8140', u'message': u\"compel/s390: glibc renamed ucontext to ucontext_t\\n\\nThe upcoming glibc release renamed 'struct ucontext' to\\n'struct ucontext_t':\\n\\nhttps://sourceware.org/git/gitweb.cgi?p=glibc.git;a=commitdiff;h=251287734e89a52da3db682a8241eb6bccc050c9;hp=c86ed71d633c22d6f638576f7660c52a5f783d66\\n\\nInstead of using 'struct ucontext' this patch changes it\\nto the typedef ucontext_t which already exists in older and\\nnew versions of glibc.\\n\\nSigned-off-by: Adrian Reber <areber@redhat.com>\\nReviewed-by: Dmitry Safonov <dsafonov@virtuozzo.com>\\nReviewed-by: Michael Holzheu <holzheu@linux.vnet.ibm.com>\\nSigned-off-by: Andrei Vagin <avagin@virtuozzo.com>\", u'changes': [[1, 1, u'compel/arch/s390/src/lib/include/uapi/asm/sigframe.h']]}\n"
     ]
    }
   ],
   "source": [
    "log = json.load(open('criu-log.json'))\n",
    "print log[0]"
   ]
  },
  {
   "cell_type": "code",
   "execution_count": 12,
   "metadata": {
    "scrolled": true
   },
   "outputs": [
    {
     "name": "stdout",
     "output_type": "stream",
     "text": [
      "First commit on:  2011-09-23\n",
      "Last commit on:  2017-08-09\n",
      "Number of commits =  8441\n",
      "Number of committers =  5\n",
      "Number of authors =  103\n",
      "Number of files =  2765\n"
     ]
    }
   ],
   "source": [
    "def commit_ts_to_date(commit_num):\n",
    "    commit_ts = log[commit_num][\"committer\"][\"date\"]\n",
    "    commit_date = datetime.datetime.fromtimestamp(int(commit_ts)).strftime('%Y-%m-%d')\n",
    "    return commit_date\n",
    "\n",
    "print \"First commit on: \", commit_ts_to_date(-1)\n",
    "print \"Last commit on: \", commit_ts_to_date(1)\n",
    "\n",
    "print \"Number of commits = \", len(log)\n",
    "\n",
    "committers = [c['committer']['name'] for c in log]\n",
    "print \"Number of committers = \", len(set(committers))\n",
    "\n",
    "authors = [a['author']['name'] for a in log]\n",
    "print \"Number of authors = \", len(set(authors))\n",
    "\n",
    "changes = [commit for changeset in log for commit in changeset['changes']]\n",
    "files = [file[2] for file in changes]\n",
    "print \"Number of files = \", len(set(files))"
   ]
  },
  {
   "cell_type": "markdown",
   "metadata": {},
   "source": [
    "This is a simplified version of \"code churn\" which is [reasonably](https://research.microsoft.com/apps/pubs/default.aspx?id=69126) [effective](http://google-engtools.blogspot.ca/2011/12/bug-prediction-at-google.html) for predicting bugs. (More complicated models include lines modified or [take semantic differences into account](http://dl.acm.org/citation.cfm?id=1985456)). So we'll just take the number of commits for each `.c` file."
   ]
  },
  {
   "cell_type": "code",
   "execution_count": 21,
   "metadata": {
    "collapsed": true
   },
   "outputs": [],
   "source": [
    "file_changes = lambda: itertools.chain.from_iterable(\n",
    "    [change[2] for change in commit['changes'] if re.match(r'^.*\\.[c,h]$', change[2])]\n",
    "    for commit in log\n",
    ")"
   ]
  },
  {
   "cell_type": "code",
   "execution_count": 22,
   "metadata": {},
   "outputs": [
    {
     "data": {
      "text/plain": [
       "<matplotlib.collections.LineCollection at 0xaad2b10>"
      ]
     },
     "execution_count": 22,
     "metadata": {},
     "output_type": "execute_result"
    }
   ],
   "source": [
    "plt.rcParams[\"figure.figsize\"] = (15,6)\n",
    "fchanges = file_changes()\n",
    "fchange_count = collections.Counter(fchanges)\n",
    "a = numpy.average(fchange_count.values())\n",
    "most_common = fchange_count.most_common(20)\n",
    "df = pd.DataFrame(most_common)\n",
    "df.head()\n",
    "df.index = df[0]\n",
    "df = df[[1]]\n",
    "df.head()\n",
    "p = df.plot(kind='bar', legend=False)\n",
    "p.set_title('Most often changed files in CRIU')\n",
    "p.set_ylabel('Commits')\n",
    "plt.hlines(a, 0, len(df), colors='r')"
   ]
  },
  {
   "cell_type": "markdown",
   "metadata": {},
   "source": [
    "Next, I'll make a simple plot showing weekly commit counts over time, similar to the plots GitHub would show you. I'll create a data frame from a list in the format `[(date_rounded_down_to_week, commit_id)]` and then `groupby()` the date."
   ]
  },
  {
   "cell_type": "code",
   "execution_count": 23,
   "metadata": {},
   "outputs": [
    {
     "data": {
      "text/html": [
       "<div>\n",
       "<style>\n",
       "    .dataframe thead tr:only-child th {\n",
       "        text-align: right;\n",
       "    }\n",
       "\n",
       "    .dataframe thead th {\n",
       "        text-align: left;\n",
       "    }\n",
       "\n",
       "    .dataframe tbody tr th {\n",
       "        vertical-align: top;\n",
       "    }\n",
       "</style>\n",
       "<table border=\"1\" class=\"dataframe\">\n",
       "  <thead>\n",
       "    <tr style=\"text-align: right;\">\n",
       "      <th></th>\n",
       "      <th>id</th>\n",
       "    </tr>\n",
       "    <tr>\n",
       "      <th>date</th>\n",
       "      <th></th>\n",
       "    </tr>\n",
       "  </thead>\n",
       "  <tbody>\n",
       "    <tr>\n",
       "      <th>2011-09-22</th>\n",
       "      <td>18</td>\n",
       "    </tr>\n",
       "    <tr>\n",
       "      <th>2011-09-29</th>\n",
       "      <td>22</td>\n",
       "    </tr>\n",
       "    <tr>\n",
       "      <th>2011-10-01</th>\n",
       "      <td>14</td>\n",
       "    </tr>\n",
       "    <tr>\n",
       "      <th>2011-10-08</th>\n",
       "      <td>42</td>\n",
       "    </tr>\n",
       "    <tr>\n",
       "      <th>2011-10-15</th>\n",
       "      <td>7</td>\n",
       "    </tr>\n",
       "  </tbody>\n",
       "</table>\n",
       "</div>"
      ],
      "text/plain": [
       "            id\n",
       "date          \n",
       "2011-09-22  18\n",
       "2011-09-29  22\n",
       "2011-10-01  14\n",
       "2011-10-08  42\n",
       "2011-10-15   7"
      ]
     },
     "execution_count": 23,
     "metadata": {},
     "output_type": "execute_result"
    }
   ],
   "source": [
    "def weekly_date_resolution(ts):\n",
    "    ar = arrow.Arrow.utcfromtimestamp(ts)\n",
    "    day_of_month = ar.timetuple().tm_mday\n",
    "    week = int(day_of_month) / 7\n",
    "    new_day = (week*7)+1\n",
    "    assert new_day > 0\n",
    "    assert new_day < 30\n",
    "    try:\n",
    "        day_adjusted = ar.replace(day=new_day)\n",
    "    except ValueError:\n",
    "        new_day = day_of_month\n",
    "        day_adjusted = ar.replace(day=new_day)\n",
    "    return day_adjusted.date()\n",
    "\n",
    "commit_times = lambda: (\n",
    "    (weekly_date_resolution(commit['committer']['date']), commit['commit'])\n",
    "    for commit in log\n",
    ")\n",
    "\n",
    "dfct = pd.DataFrame(commit_times(), columns=['date', 'id'])\n",
    "dfct = dfct.groupby('date').aggregate(len)\n",
    "dfct.head()"
   ]
  },
  {
   "cell_type": "markdown",
   "metadata": {},
   "source": [
    "A few more lines gives us a basic plot."
   ]
  },
  {
   "cell_type": "code",
   "execution_count": 24,
   "metadata": {},
   "outputs": [
    {
     "data": {
      "text/plain": [
       "<matplotlib.text.Text at 0x5106a90>"
      ]
     },
     "execution_count": 24,
     "metadata": {},
     "output_type": "execute_result"
    }
   ],
   "source": [
    "p = dfct.plot(legend=False)\n",
    "p.set_title('Weekly commits on CRIU')\n",
    "p.set_ylabel('Commits')"
   ]
  },
  {
   "cell_type": "markdown",
   "metadata": {},
   "source": [
    "The most active developers"
   ]
  },
  {
   "cell_type": "code",
   "execution_count": 25,
   "metadata": {},
   "outputs": [
    {
     "data": {
      "text/html": [
       "<div>\n",
       "<style>\n",
       "    .dataframe thead tr:only-child th {\n",
       "        text-align: right;\n",
       "    }\n",
       "\n",
       "    .dataframe thead th {\n",
       "        text-align: left;\n",
       "    }\n",
       "\n",
       "    .dataframe tbody tr th {\n",
       "        vertical-align: top;\n",
       "    }\n",
       "</style>\n",
       "<table border=\"1\" class=\"dataframe\">\n",
       "  <thead>\n",
       "    <tr style=\"text-align: right;\">\n",
       "      <th></th>\n",
       "      <th>num</th>\n",
       "    </tr>\n",
       "    <tr>\n",
       "      <th>name</th>\n",
       "      <th></th>\n",
       "    </tr>\n",
       "  </thead>\n",
       "  <tbody>\n",
       "    <tr>\n",
       "      <th>Andrei Vagin</th>\n",
       "      <td>577</td>\n",
       "    </tr>\n",
       "    <tr>\n",
       "      <th>Andrey Vagin</th>\n",
       "      <td>54</td>\n",
       "    </tr>\n",
       "    <tr>\n",
       "      <th>Cyrill Gorcunov</th>\n",
       "      <td>924</td>\n",
       "    </tr>\n",
       "    <tr>\n",
       "      <th>GitHub</th>\n",
       "      <td>6</td>\n",
       "    </tr>\n",
       "    <tr>\n",
       "      <th>Pavel Emelyanov</th>\n",
       "      <td>6880</td>\n",
       "    </tr>\n",
       "  </tbody>\n",
       "</table>\n",
       "</div>"
      ],
      "text/plain": [
       "                  num\n",
       "name                 \n",
       "Andrei Vagin      577\n",
       "Andrey Vagin       54\n",
       "Cyrill Gorcunov   924\n",
       "GitHub              6\n",
       "Pavel Emelyanov  6880"
      ]
     },
     "execution_count": 25,
     "metadata": {},
     "output_type": "execute_result"
    }
   ],
   "source": [
    "devs = lambda: (\n",
    "    (c['committer']['name'], c['changes'])\n",
    "    for c in log\n",
    ")\n",
    "\n",
    "dfad = pd.DataFrame(devs(), columns=['name', 'num'])\n",
    "dfad = dfad.groupby('name').aggregate(len)\n",
    "dfad.head()"
   ]
  },
  {
   "cell_type": "code",
   "execution_count": 26,
   "metadata": {},
   "outputs": [
    {
     "data": {
      "text/plain": [
       "<matplotlib.text.Text at 0x50e4b50>"
      ]
     },
     "execution_count": 26,
     "metadata": {},
     "output_type": "execute_result"
    }
   ],
   "source": [
    "pad = dfad.plot(legend=False)\n",
    "pad.set_title('The most active developers')\n",
    "pad.set_ylabel('Commits')"
   ]
  },
  {
   "cell_type": "markdown",
   "metadata": {},
   "source": [
    "## Mailing list\n",
    "\n",
    "First of all we should download mail archive of criu@openvz.org from [Mailman archive](https://lists.openvz.org/pipermail/criu/) and [mbox2json](https://gist.github.com/ligurio/06a9fd236c70fe9dcf0f769823a0aeee) script."
   ]
  },
  {
   "cell_type": "code",
   "execution_count": 34,
   "metadata": {},
   "outputs": [
    {
     "name": "stdout",
     "output_type": "stream",
     "text": [
      "{u'Date': u'Thu, 1 Dec 2016 10:09:23 +0200', u'Message-ID': u'<1480579763-21825-1-git-send-email-rppt@linux.vnet.ibm.com>', u'From': u'rppt at linux.vnet.ibm.com (Mike Rapoport)', u'Subject': u'[CRIU] [PATCH] lazy-pages: spelling: s/pagefalt/#PF'}\n"
     ]
    }
   ],
   "source": [
    "mbox = json.load(open('criu.mbox.json'))\n",
    "print mbox[0]"
   ]
  },
  {
   "cell_type": "code",
   "execution_count": 39,
   "metadata": {},
   "outputs": [
    {
     "name": "stdout",
     "output_type": "stream",
     "text": [
      "Number of senders:  371\n"
     ]
    }
   ],
   "source": [
    "senders = [m['From'] for m in mbox if 'From' in m.keys()]\n",
    "print \"Number of senders: \", len(set(senders))"
   ]
  },
  {
   "cell_type": "markdown",
   "metadata": {},
   "source": [
    "Weekly mails on CRIU"
   ]
  },
  {
   "cell_type": "code",
   "execution_count": 46,
   "metadata": {},
   "outputs": [
    {
     "ename": "KeyError",
     "evalue": "'Date'",
     "output_type": "error",
     "traceback": [
      "\u001b[0;31m---------------------------------------------------------------------------\u001b[0m",
      "\u001b[0;31mKeyError\u001b[0m                                  Traceback (most recent call last)",
      "\u001b[0;32m<ipython-input-46-f4927911b3b5>\u001b[0m in \u001b[0;36m<module>\u001b[0;34m()\u001b[0m\n\u001b[1;32m     13\u001b[0m )\n\u001b[1;32m     14\u001b[0m \u001b[0;34m\u001b[0m\u001b[0m\n\u001b[0;32m---> 15\u001b[0;31m \u001b[0mdfbg\u001b[0m \u001b[0;34m=\u001b[0m \u001b[0mpd\u001b[0m\u001b[0;34m.\u001b[0m\u001b[0mDataFrame\u001b[0m\u001b[0;34m(\u001b[0m\u001b[0mreport_times\u001b[0m\u001b[0;34m(\u001b[0m\u001b[0;34m)\u001b[0m\u001b[0;34m,\u001b[0m \u001b[0mcolumns\u001b[0m\u001b[0;34m=\u001b[0m\u001b[0;34m[\u001b[0m\u001b[0;34m'date'\u001b[0m\u001b[0;34m,\u001b[0m \u001b[0;34m'id'\u001b[0m\u001b[0;34m]\u001b[0m\u001b[0;34m)\u001b[0m\u001b[0;34m\u001b[0m\u001b[0m\n\u001b[0m\u001b[1;32m     16\u001b[0m \u001b[0mdfbg\u001b[0m \u001b[0;34m=\u001b[0m \u001b[0mdfbg\u001b[0m\u001b[0;34m.\u001b[0m\u001b[0mgroupby\u001b[0m\u001b[0;34m(\u001b[0m\u001b[0;34m'date'\u001b[0m\u001b[0;34m)\u001b[0m\u001b[0;34m.\u001b[0m\u001b[0maggregate\u001b[0m\u001b[0;34m(\u001b[0m\u001b[0mlen\u001b[0m\u001b[0;34m)\u001b[0m\u001b[0;34m\u001b[0m\u001b[0m\n\u001b[1;32m     17\u001b[0m \u001b[0mdfbg\u001b[0m\u001b[0;34m.\u001b[0m\u001b[0mhead\u001b[0m\u001b[0;34m(\u001b[0m\u001b[0;34m)\u001b[0m\u001b[0;34m\u001b[0m\u001b[0m\n",
      "\u001b[0;32m/usr/lib64/python2.7/site-packages/pandas/core/frame.pyc\u001b[0m in \u001b[0;36m__init__\u001b[0;34m(self, data, index, columns, dtype, copy)\u001b[0m\n\u001b[1;32m    307\u001b[0m         \u001b[0;32melif\u001b[0m \u001b[0misinstance\u001b[0m\u001b[0;34m(\u001b[0m\u001b[0mdata\u001b[0m\u001b[0;34m,\u001b[0m \u001b[0;34m(\u001b[0m\u001b[0mlist\u001b[0m\u001b[0;34m,\u001b[0m \u001b[0mtypes\u001b[0m\u001b[0;34m.\u001b[0m\u001b[0mGeneratorType\u001b[0m\u001b[0;34m)\u001b[0m\u001b[0;34m)\u001b[0m\u001b[0;34m:\u001b[0m\u001b[0;34m\u001b[0m\u001b[0m\n\u001b[1;32m    308\u001b[0m             \u001b[0;32mif\u001b[0m \u001b[0misinstance\u001b[0m\u001b[0;34m(\u001b[0m\u001b[0mdata\u001b[0m\u001b[0;34m,\u001b[0m \u001b[0mtypes\u001b[0m\u001b[0;34m.\u001b[0m\u001b[0mGeneratorType\u001b[0m\u001b[0;34m)\u001b[0m\u001b[0;34m:\u001b[0m\u001b[0;34m\u001b[0m\u001b[0m\n\u001b[0;32m--> 309\u001b[0;31m                 \u001b[0mdata\u001b[0m \u001b[0;34m=\u001b[0m \u001b[0mlist\u001b[0m\u001b[0;34m(\u001b[0m\u001b[0mdata\u001b[0m\u001b[0;34m)\u001b[0m\u001b[0;34m\u001b[0m\u001b[0m\n\u001b[0m\u001b[1;32m    310\u001b[0m             \u001b[0;32mif\u001b[0m \u001b[0mlen\u001b[0m\u001b[0;34m(\u001b[0m\u001b[0mdata\u001b[0m\u001b[0;34m)\u001b[0m \u001b[0;34m>\u001b[0m \u001b[0;36m0\u001b[0m\u001b[0;34m:\u001b[0m\u001b[0;34m\u001b[0m\u001b[0m\n\u001b[1;32m    311\u001b[0m                 \u001b[0;32mif\u001b[0m \u001b[0mis_list_like\u001b[0m\u001b[0;34m(\u001b[0m\u001b[0mdata\u001b[0m\u001b[0;34m[\u001b[0m\u001b[0;36m0\u001b[0m\u001b[0;34m]\u001b[0m\u001b[0;34m)\u001b[0m \u001b[0;32mand\u001b[0m \u001b[0mgetattr\u001b[0m\u001b[0;34m(\u001b[0m\u001b[0mdata\u001b[0m\u001b[0;34m[\u001b[0m\u001b[0;36m0\u001b[0m\u001b[0;34m]\u001b[0m\u001b[0;34m,\u001b[0m \u001b[0;34m'ndim'\u001b[0m\u001b[0;34m,\u001b[0m \u001b[0;36m1\u001b[0m\u001b[0;34m)\u001b[0m \u001b[0;34m==\u001b[0m \u001b[0;36m1\u001b[0m\u001b[0;34m:\u001b[0m\u001b[0;34m\u001b[0m\u001b[0m\n",
      "\u001b[0;32m<ipython-input-46-f4927911b3b5>\u001b[0m in \u001b[0;36m<genexpr>\u001b[0;34m((message,))\u001b[0m\n\u001b[1;32m     10\u001b[0m report_times = lambda: (\n\u001b[1;32m     11\u001b[0m     \u001b[0;34m(\u001b[0m\u001b[0mnormalize_date\u001b[0m\u001b[0;34m(\u001b[0m\u001b[0mmessage\u001b[0m\u001b[0;34m[\u001b[0m\u001b[0;34m'Date'\u001b[0m\u001b[0;34m]\u001b[0m\u001b[0;34m)\u001b[0m\u001b[0;34m,\u001b[0m \u001b[0mmessage\u001b[0m\u001b[0;34m[\u001b[0m\u001b[0;34m'Subject'\u001b[0m\u001b[0;34m]\u001b[0m\u001b[0;34m)\u001b[0m\u001b[0;34m\u001b[0m\u001b[0m\n\u001b[0;32m---> 12\u001b[0;31m     \u001b[0;32mfor\u001b[0m \u001b[0mmessage\u001b[0m \u001b[0;32min\u001b[0m \u001b[0mmbox\u001b[0m\u001b[0;34m\u001b[0m\u001b[0m\n\u001b[0m\u001b[1;32m     13\u001b[0m )\n\u001b[1;32m     14\u001b[0m \u001b[0;34m\u001b[0m\u001b[0m\n",
      "\u001b[0;31mKeyError\u001b[0m: 'Date'"
     ]
    }
   ],
   "source": [
    "def normalize_date(date_string):\n",
    "    # Example: Sat, 31 May 2003 14:40:40 -0400\n",
    "    from dateutil import parser\n",
    "    try:\n",
    "        date = parser.parse(date_string).strftime(\"%Y-%m-%d\")\n",
    "    except ValueError:\n",
    "        date = \"0000-00-00\"  # FIXME: improve date parsing\n",
    "    return date\n",
    "    \n",
    "report_times = lambda: (\n",
    "    (normalize_date(message['Date']), message['Subject'])\n",
    "    for message in mbox\n",
    ")\n",
    "\n",
    "dfbg = pd.DataFrame(report_times(), columns=['date', 'id'])\n",
    "dfbg = dfbg.groupby('date').aggregate(len)\n",
    "dfbg.head()"
   ]
  },
  {
   "cell_type": "code",
   "execution_count": null,
   "metadata": {
    "collapsed": true
   },
   "outputs": [],
   "source": [
    "b = dfbg.plot(legend=False)\n",
    "b.set_title('Weekly mails on')\n",
    "b.set_ylabel('Message')"
   ]
  },
  {
   "cell_type": "markdown",
   "metadata": {},
   "source": [
    "The most active bugreporters"
   ]
  },
  {
   "cell_type": "code",
   "execution_count": null,
   "metadata": {
    "collapsed": true
   },
   "outputs": [],
   "source": [
    "def extract_domain(from_string):\n",
    "    return from_string.split(\"@\")[1].split(\">\")[0]\n",
    "    \n",
    "domains = lambda: (\n",
    "    (message['from'], message['subject'])\n",
    "    for message in reports\n",
    ")\n",
    "\n",
    "dfdomain = pd.DataFrame(domains, columns=['domain', 'id'])\n",
    "dfdomain = dfdomain.groupby('domain').aggregate(len)\n",
    "dfdomain.head()"
   ]
  }
 ],
 "metadata": {
  "kernelspec": {
   "display_name": "Python 2",
   "language": "python",
   "name": "python2"
  },
  "language_info": {
   "codemirror_mode": {
    "name": "ipython",
    "version": 2
   },
   "file_extension": ".py",
   "mimetype": "text/x-python",
   "name": "python",
   "nbconvert_exporter": "python",
   "pygments_lexer": "ipython2",
   "version": "2.7.5"
  }
 },
 "nbformat": 4,
 "nbformat_minor": 1
}
